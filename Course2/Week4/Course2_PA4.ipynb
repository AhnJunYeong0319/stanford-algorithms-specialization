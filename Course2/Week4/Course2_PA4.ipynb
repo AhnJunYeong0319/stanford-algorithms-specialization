{
  "nbformat": 4,
  "nbformat_minor": 0,
  "metadata": {
    "colab": {
      "name": "Course2_PA4.ipynb",
      "provenance": [],
      "collapsed_sections": []
    },
    "kernelspec": {
      "name": "python3",
      "display_name": "Python 3"
    },
    "language_info": {
      "name": "python"
    }
  },
  "cells": [
    {
      "cell_type": "markdown",
      "source": [
        "# Week 4 - programming assignment (2-sum with multiple targets)\n",
        "\n"
      ],
      "metadata": {
        "id": "J-agNniaDkVV"
      }
    },
    {
      "cell_type": "markdown",
      "source": [
        "slow version"
      ],
      "metadata": {
        "id": "azQFQ4VZRlbO"
      }
    },
    {
      "cell_type": "code",
      "source": [
        "from google.colab import drive\n",
        "\n",
        "drive.mount(\"/content/gdrive\")\n",
        "with open('/content/gdrive/My Drive/Colab Notebooks/Coursera/Algorithm_Specialization/Chapter2/2sum.txt', 'r') as f:\n",
        "    tmps = f.readlines()\n",
        "\n",
        "nums = list(map(lambda x : int(x.split('\\n')[0]), tmps))\n",
        "\n",
        "hash = {}\n",
        "\n",
        "for i in range(len(nums)):\n",
        "  if nums[i] not in hash.keys():\n",
        "    hash[nums[i]] = i\n",
        "\n",
        "  else: # if redundant\n",
        "    pass\n",
        "\n",
        "t_cnt = 0\n",
        "for t in range(-10000, 10001) :\n",
        "  print(t)\n",
        "  for i in range(len(nums)):\n",
        "    complement = t - nums[i]\n",
        "    if complement in hash and hash[complement] != i:\n",
        "      t_cnt += 1"
      ],
      "metadata": {
        "colab": {
          "base_uri": "https://localhost:8080/"
        },
        "id": "3nq4IsphHvf2",
        "outputId": "c34fa406-8cbe-4520-cf20-1b52bb643cec"
      },
      "execution_count": null,
      "outputs": [
        {
          "output_type": "stream",
          "name": "stdout",
          "text": [
            "Drive already mounted at /content/gdrive; to attempt to forcibly remount, call drive.mount(\"/content/gdrive\", force_remount=True).\n"
          ]
        }
      ]
    },
    {
      "cell_type": "markdown",
      "source": [
        "fast version"
      ],
      "metadata": {
        "id": "k3p76wPLRnTV"
      }
    },
    {
      "cell_type": "code",
      "source": [
        "from bisect import bisect_left, bisect_right\n",
        "\n",
        "\n",
        "class TwoSumFinder:\n",
        "    def __init__(self, input_file=None):\n",
        "        self._array = []\n",
        "        numbers = set()\n",
        "        self._target_values = 0\n",
        "        if input_file is None:\n",
        "            for number in input().split():\n",
        "                numbers.add(int(number))\n",
        "        else:\n",
        "            with open('/content/gdrive/My Drive/Colab Notebooks/Coursera/Algorithm_Specialization/Chapter2/2sum.txt', 'r') as file:\n",
        "                for number in file.read().splitlines():\n",
        "                    numbers.add(int(number))\n",
        "        self._array = sorted(numbers)\n",
        "\n",
        "    def compute_values(self):\n",
        "        target_values = set()\n",
        "        for num in self._array:\n",
        "            low = bisect_left(self._array, -10000 - num)\n",
        "            high = bisect_right(self._array, 10000 - num)\n",
        "            for pair_num in self._array[low:high]:\n",
        "                if pair_num != num:\n",
        "                    target_values.add(num + pair_num)\n",
        "        return len(target_values)\n",
        "\n",
        "if __name__ == \"__main__\":\n",
        "    two_sum_finder = TwoSumFinder('/content/gdrive/My Drive/Colab Notebooks/Coursera/Algorithm_Specialization/Chapter2/2sum.txt')\n",
        "    target_values = two_sum_finder.compute_values()\n",
        "    print(target_values)"
      ],
      "metadata": {
        "colab": {
          "base_uri": "https://localhost:8080/"
        },
        "id": "9BGHIxwtPxv_",
        "outputId": "cdb48576-6316-4450-f464-7ef5937c8d2f"
      },
      "execution_count": null,
      "outputs": [
        {
          "output_type": "stream",
          "name": "stdout",
          "text": [
            "427\n"
          ]
        }
      ]
    }
  ]
}