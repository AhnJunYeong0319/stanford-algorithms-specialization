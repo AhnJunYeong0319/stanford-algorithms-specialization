{
  "nbformat": 4,
  "nbformat_minor": 0,
  "metadata": {
    "colab": {
      "name": "Course2_PA3.ipynb",
      "provenance": [],
      "collapsed_sections": []
    },
    "kernelspec": {
      "name": "python3",
      "display_name": "Python 3"
    },
    "language_info": {
      "name": "python"
    }
  },
  "cells": [
    {
      "cell_type": "markdown",
      "source": [
        "# Week 3 - programming assignment (Median Maintenance using heap)\n",
        "\n"
      ],
      "metadata": {
        "id": "Mcrpxh_PomJt"
      }
    },
    {
      "cell_type": "markdown",
      "source": [
        "Don't be confused with median of medians problem"
      ],
      "metadata": {
        "id": "DyBx5wwA1Oea"
      }
    },
    {
      "cell_type": "code",
      "source": [
        "from google.colab import drive\n",
        "import heapq\n",
        "\n",
        "drive.mount(\"/content/gdrive\")\n",
        "with open('/content/gdrive/My Drive/Colab Notebooks/Coursera/Algorithm_Specialization/Chapter2/Median.txt', 'r') as f:\n",
        "    tmps = f.readlines()\n"
      ],
      "metadata": {
        "colab": {
          "base_uri": "https://localhost:8080/"
        },
        "id": "TULBo5smov8u",
        "outputId": "1957874e-f17c-4ae2-9c27-c0419e3eb8d4"
      },
      "execution_count": null,
      "outputs": [
        {
          "output_type": "stream",
          "name": "stdout",
          "text": [
            "Drive already mounted at /content/gdrive; to attempt to forcibly remount, call drive.mount(\"/content/gdrive\", force_remount=True).\n"
          ]
        }
      ]
    },
    {
      "cell_type": "code",
      "source": [
        "import heapq\n",
        "\n",
        "data = list(map(lambda x : int(x.split('\\n')[0]),tmps))\n",
        "\n",
        "ITER = 10001\n",
        "MIN_INF = -int(0) # not to look at the empty index in H_low\n",
        "MAX_INF = int(1e9) # not to look at the empty index in H_high\n",
        "\n",
        "def MedOfMeds(ITER):\n",
        "  \n",
        "  H_low = [MIN_INF] # max heap - times (-1) to appended element\n",
        "  H_high = [data[0], MAX_INF] # min heap\n",
        "  now = 2 # current iteration\n",
        "\n",
        "\n",
        "  #medSum = data[0]\n",
        "  medContainer = [data[0]]\n",
        "\n",
        "\n",
        "\n",
        "\n",
        "  while now < ITER:\n",
        "    \n",
        "    datum = data[now-1]\n",
        "\n",
        "    print(f'{now}th datum is {datum}')\n",
        "    if H_high[0] < datum : # if datum strictly larger than H_high[0]\n",
        "      heapq.heappush(H_high, datum)\n",
        "    else :\n",
        "      heapq.heappush(H_low, -datum)  \n",
        "    \n",
        "    print(f'{now}th iter, current H_low is {H_low} and H_high is {H_high} before 50:50 checking')\n",
        "    \n",
        "\n",
        "    ## 50 : 50 split check / if not, move one element from . the to the other\n",
        "    if len(H_low) - len(H_high) > 1: # move one element from H_low to H_high\n",
        "      heapq.heappush(H_high, -(H_low[0]))\n",
        "      heapq.heappop(H_low)\n",
        "      \n",
        "    elif len(H_high) - len(H_low) > 1:\n",
        "      heapq.heappush(H_low, -(H_high[0]))\n",
        "      heapq.heappop(H_high)\n",
        "\n",
        "    else:\n",
        "      None\n",
        "\n",
        "    print(f'{now}th iter, current H_low is {H_low} and H_high is {H_high} after 50:50 checking')\n",
        "\n",
        "    \n",
        "    \n",
        "\n",
        "    \n",
        "\n",
        "    if len(H_low) - 1< math.ceil(now/2):\n",
        "      #medSum += (H_high[0])\n",
        "      medContainer.append((H_high[0]))\n",
        "      #print(f'Median is {(H_high[0])}')\n",
        "    else:\n",
        "      #medSum += (-H_low[0])\n",
        "      medContainer.append((-H_low[0]))\n",
        "      #print(f'Median is {(-H_low[0])}')\n",
        "\n",
        "    now += 1\n",
        "  return medContainer\n",
        "  #return medSum"
      ],
      "metadata": {
        "id": "zbuTD8UHovD8"
      },
      "execution_count": null,
      "outputs": []
    },
    {
      "cell_type": "code",
      "source": [
        "x = MedOfMeds(ITER)"
      ],
      "metadata": {
        "id": "k2ZToqO_rrfd"
      },
      "execution_count": null,
      "outputs": []
    },
    {
      "cell_type": "code",
      "source": [
        "sum(x)%10000\n",
        "## answer is 1213"
      ],
      "metadata": {
        "colab": {
          "base_uri": "https://localhost:8080/"
        },
        "id": "7CLHN4ry1lyk",
        "outputId": "7b683131-bff4-493e-f67c-aaed096b3a5e"
      },
      "execution_count": null,
      "outputs": [
        {
          "output_type": "execute_result",
          "data": {
            "text/plain": [
              "1213"
            ]
          },
          "metadata": {},
          "execution_count": 93
        }
      ]
    },
    {
      "cell_type": "markdown",
      "source": [
        "For the test - Genuine Medians through sorting each iter's array"
      ],
      "metadata": {
        "id": "LilJ0S9Z0mDg"
      }
    },
    {
      "cell_type": "code",
      "source": [
        "for i in range(10000):\n",
        "  if x[i] != GenuineMed[i]:\n",
        "    print(i)"
      ],
      "metadata": {
        "id": "wyN-oHtBvgRd"
      },
      "execution_count": null,
      "outputs": []
    },
    {
      "cell_type": "code",
      "source": [
        "import math\n",
        "GenuineMed = []\n",
        "\n",
        "for i in range(1,10001):\n",
        "  values = sorted(data[:i])\n",
        "  med = values[ math.ceil( len(values)/2) - 1 ]\n",
        "  GenuineMed.append(med)"
      ],
      "metadata": {
        "id": "013jserVVIAg"
      },
      "execution_count": null,
      "outputs": []
    }
  ]
}