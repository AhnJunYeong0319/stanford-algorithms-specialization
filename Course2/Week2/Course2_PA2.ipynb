{
  "nbformat": 4,
  "nbformat_minor": 0,
  "metadata": {
    "colab": {
      "name": "Course2_PA2.ipynb",
      "provenance": [],
      "collapsed_sections": []
    },
    "kernelspec": {
      "name": "python3",
      "display_name": "Python 3"
    },
    "language_info": {
      "name": "python"
    }
  },
  "cells": [
    {
      "cell_type": "markdown",
      "source": [
        "#Week 2 - programming assignment (Dijkstra's algorithm)\n",
        "\n"
      ],
      "metadata": {
        "id": "oPKs3DzBH4kK"
      }
    },
    {
      "cell_type": "markdown",
      "source": [
        "[The best visualization for Dijkstra's algorithm](https://velog.io/@717lumos/%EC%95%8C%EA%B3%A0%EB%A6%AC%EC%A6%98-%EB%8B%A4%EC%9D%B5%EC%8A%A4%ED%8A%B8%EB%9D%BCDijkstra-%EC%95%8C%EA%B3%A0%EB%A6%AC%EC%A6%98)"
      ],
      "metadata": {
        "id": "Y_fhVr6IMQVo"
      }
    },
    {
      "cell_type": "markdown",
      "source": [
        "[Dijkstra's algorithm using class-shaped graph](https://github.com/minsuk-heo/problemsolving/blob/master/graph/dijkstra.py)"
      ],
      "metadata": {
        "id": "npJREy_RMeco"
      }
    },
    {
      "cell_type": "markdown",
      "source": [
        "[Dijkstra's algorithm python codes - a lot helped](https://velog.io/@kgorae/%EC%9D%B4%EC%BD%94%ED%85%8C-%EC%B5%9C%EB%8B%A8-%EA%B2%BD%EB%A1%9C-%EB%8B%A4%EC%9D%B5%EC%8A%A4%ED%8A%B8%EB%9D%BC-%EC%95%8C%EA%B3%A0%EB%A6%AC%EC%A6%98-%EA%B0%9C%EB%85%90)"
      ],
      "metadata": {
        "id": "Zt6UanCRMoPA"
      }
    },
    {
      "cell_type": "markdown",
      "source": [
        "1. Straightforward way"
      ],
      "metadata": {
        "id": "jG2IQos4JIvJ"
      }
    },
    {
      "cell_type": "code",
      "source": [
        ""
      ],
      "metadata": {
        "id": "Ki5solzQJI11"
      },
      "execution_count": null,
      "outputs": []
    },
    {
      "cell_type": "markdown",
      "source": [
        "2. Heap-based way"
      ],
      "metadata": {
        "id": "4Zde38D1JI9R"
      }
    },
    {
      "cell_type": "code",
      "source": [
        "from google.colab import drive\n",
        "import heapq\n",
        "\n",
        "drive.mount(\"/content/gdrive\")\n",
        "with open('/content/gdrive/My Drive/Colab Notebooks/Coursera/Algorithm_Specialization/Chapter2/dijkstraData.txt', 'r') as f:\n",
        "    tmps = f.readlines()\n",
        "\n",
        "# Construct the graph and distance info. array for each vertex\n",
        "INF = int(1e9)\n",
        "dist_array = [INF for i in range(201)]\n",
        "graph = [ [] for i in range(201)]\n",
        "srcVtx = 1\n",
        "\n",
        "for i in range(1, 201):\n",
        "  tmp = tmps[i-1].split('\\t')\n",
        "  for string in tmp[1:len(tmp)-1]:\n",
        "    graph[i].append(tuple(map(int, string.split(','))))\n",
        "\n",
        "# graph[1][:5] : [(80, 982), (163, 8164), (170, 2620), (145, 648), (200, 8021)]\n",
        "\n",
        "def dijkstra(G, srcVtx):\n",
        "  heap = []\n",
        "  heapq.heappush(heap, (0, srcVtx)) # (weight, vertex label) form\n",
        "  dist_array[srcVtx] = 0 # Refresh the dist_array\n",
        "\n",
        "  while heap: # Till the heap becomes empty\n",
        "   \n",
        "   dist, vtx = heapq.heappop(heap) # Pop the root node -> (the smallest distance, it's vertex label)\n",
        "   \n",
        "   for i in G[vtx]:    # Find all the adjacent nodes with 'vtx', current space\n",
        "                       # Note that data in the graph has the form of (vtx, weight) unlike heap\n",
        "    cost = dist + i[1] \n",
        "    \n",
        "    # ↓Check whether cost is smaller than dist_array or not - to refresh or not?↓\n",
        "    if cost < dist_array[i[0]]: # cost : current cost to get to i[0] / dist_array : containing the minimum distances so far\n",
        "      \n",
        "      dist_array[i[0]] = cost\n",
        "      heapq.heappush(heap, (cost, i[0]))\n",
        "  \n",
        "dijkstra(graph, srcVtx)\n",
        "\n",
        "for i in [7,37,59,82,99,115,133,165,188,197]:\n",
        "  print(dist_array[i], end=',')"
      ],
      "metadata": {
        "colab": {
          "base_uri": "https://localhost:8080/"
        },
        "id": "dq1yXX6FM3v4",
        "outputId": "ac2c5dcd-a465-4df1-df71-da4b3af77db6"
      },
      "execution_count": null,
      "outputs": [
        {
          "output_type": "stream",
          "name": "stdout",
          "text": [
            "Drive already mounted at /content/gdrive; to attempt to forcibly remount, call drive.mount(\"/content/gdrive\", force_remount=True).\n",
            "2599,2610,2947,2052,2367,2399,2029,2442,2505,3068,"
          ]
        }
      ]
    },
    {
      "cell_type": "markdown",
      "source": [
        "For the test"
      ],
      "metadata": {
        "id": "Fm9Tg7ybVpSE"
      }
    },
    {
      "cell_type": "code",
      "source": [
        "# Construct the graph and distance info. array for each vertex\n",
        "INF = int(1e9)\n",
        "dist_array = [INF for i in range(5)]\n",
        "graph = [ [], [(2, 1), (3, 4)], [(3, 2), (4, 6)], [(4, 3)], [] ]\n",
        "srcVtx = 1\n",
        "\n",
        "\n",
        "def dijkstra(G, srcVtx):\n",
        "  heap = []\n",
        "  heapq.heappush(heap, (0, srcVtx)) # (weight, vertex label) form\n",
        "  dist_array[srcVtx] = 0 # Refresh the dist_array\n",
        "\n",
        "  while heap: # Till the heap becomes empty\n",
        "   \n",
        "   dist, vtx = heapq.heappop(heap) # Pop the root node -> (the smallest distance, it's vertex label)\n",
        "   \n",
        "   for i in G[vtx]:    # Find all the adjacent nodes with 'vtx', current space\n",
        "                       # Note that data in the graph has the form of (vtx, weight) unlike heap\n",
        "    cost = dist + i[1] \n",
        "    \n",
        "    # ↓Check whether cost is smaller than dist_array or not - to refresh or not?↓\n",
        "    if cost < dist_array[i[0]]: # cost : current cost to get to i[0] / dist_array : containing the minimum distances so far\n",
        "      \n",
        "      dist_array[i[0]] = cost\n",
        "      heapq.heappush(heap, (cost, i[0]))\n",
        "\n",
        "dijkstra(graph, srcVtx)"
      ],
      "metadata": {
        "id": "XXKwYEphVo6T"
      },
      "execution_count": null,
      "outputs": []
    },
    {
      "cell_type": "code",
      "source": [
        "for i in dist_array[1:]:\n",
        "  print(i)\n",
        "  \n",
        "# answer : 0, 1, 3, 6 (correct)  "
      ],
      "metadata": {
        "colab": {
          "base_uri": "https://localhost:8080/"
        },
        "id": "E5On6-Y9Vo8c",
        "outputId": "1716e7e0-b621-4772-d705-f7dba4817fe1"
      },
      "execution_count": null,
      "outputs": [
        {
          "output_type": "stream",
          "name": "stdout",
          "text": [
            "0\n",
            "1\n",
            "3\n",
            "6\n"
          ]
        }
      ]
    }
  ]
}